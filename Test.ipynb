{
 "cells": [
  {
   "cell_type": "code",
   "execution_count": 1,
   "metadata": {},
   "outputs": [
    {
     "name": "stdout",
     "output_type": "stream",
     "text": [
      "Collecting nexcsiNote: you may need to restart the kernel to use updated packages.\n",
      "\n",
      "  Using cached nexcsi-0.5.2-py3-none-any.whl.metadata (2.4 kB)\n",
      "Collecting numpy<2.0.0,>=1.23.3 (from nexcsi)\n",
      "  Downloading numpy-1.26.4-cp312-cp312-win_amd64.whl.metadata (61 kB)\n",
      "Using cached nexcsi-0.5.2-py3-none-any.whl (8.6 kB)\n",
      "Downloading numpy-1.26.4-cp312-cp312-win_amd64.whl (15.5 MB)\n",
      "   ---------------------------------------- 0.0/15.5 MB ? eta -:--:--\n",
      "   ---------------------------------------  15.5/15.5 MB 74.9 MB/s eta 0:00:01\n",
      "   ---------------------------------------- 15.5/15.5 MB 61.0 MB/s eta 0:00:00\n",
      "Installing collected packages: numpy, nexcsi\n",
      "Successfully installed nexcsi-0.5.2 numpy-1.26.4\n"
     ]
    },
    {
     "name": "stderr",
     "output_type": "stream",
     "text": [
      "\n",
      "[notice] A new release of pip is available: 24.2 -> 24.3.1\n",
      "[notice] To update, run: python.exe -m pip install --upgrade pip\n"
     ]
    }
   ],
   "source": [
    "pip install nexcsi"
   ]
  },
  {
   "cell_type": "code",
   "execution_count": 9,
   "metadata": {},
   "outputs": [
    {
     "name": "stdout",
     "output_type": "stream",
     "text": [
      "[-42 -42 -45 -42 -47 -45 -45 -45 -41 -45 -44 -41 -44 -40 -44 -44 -47 -40\n",
      " -41 -41]\n",
      "[136 136 136 136 136 136 136 136 136 136 136 136 136 136 136 136 136 136\n",
      " 136 136]\n",
      "[[-321 -192  728 ...  812  495  781]\n",
      " [-321 -192 -434 ...  451 -715  590]\n",
      " [-321 -192  542 ...  789   92  859]\n",
      " ...\n",
      " [-321 -192 -480 ...  604 -814  784]\n",
      " [-321 -192  507 ... -547  752 -697]\n",
      " [-321 -192  969 ...  675  796  564]]\n",
      "[('ts_sec', '<u4'), ('ts_usec', '<u4'), ('saddr', '>u4'), ('daddr', '>u4'), ('sport', '>u2'), ('dport', '>u2'), ('magic', '<u2'), ('rssi', 'i1'), ('fctl', 'u1'), ('mac', 'u1', (6,)), ('seq', '<u2'), ('css', '<u2'), ('csp', '<u2'), ('cvr', '<u2'), ('csi', '<i2', (128,))]\n"
     ]
    }
   ],
   "source": [
    "from nexcsi import decoder\n",
    "\n",
    "device = \"raspberrypi\" # nexus5, nexus6p, rtac86u\n",
    "\n",
    "samples = decoder(device).read_pcap('C:/Users/woons/OneDrive/바탕 화면/data/losdown1.pcap')\n",
    "\n",
    "print(samples['rssi']) # [-75 -77 -77 ... -77 -76 -76]\n",
    "print(samples['fctl']) # [128 148 148 ... 148 148 148]\n",
    "print(samples['csi'])  # [[ 19489  0  -19200  -96 -42 ...\n",
    "\n",
    "# samples is a Numpy Structured Array\n",
    "print(samples.dtype)\n",
    "\n",
    "# [\n",
    "#     ('ts_sec', '<u4'), ('ts_usec', '<u4'), ('saddr', '>u4'), \n",
    "#     ('daddr', '>u4'), ('sport', '>u2'), ('dport', '>u2'),\n",
    "#     ('magic', '<u2'), ('rssi', 'i1'), ('fctl', 'u1'),\n",
    "#     ('mac', 'u1', (6,)), ('seq', '<u2'), ('css', '<u2'),\n",
    "#     ('csp', '<u2'), ('cvr', '<u2'), ('csi', '<i2', (512,))\n",
    "# ]\n",
    "\n",
    "# Accessing CSI as type complex64\n",
    "csi = decoder(device).unpack(samples['csi'])"
   ]
  },
  {
   "cell_type": "code",
   "execution_count": 14,
   "metadata": {},
   "outputs": [
    {
     "name": "stdout",
     "output_type": "stream",
     "text": [
      "[    0.   +0.j     0.   +0.j     0.   +0.j     0.   +0.j  -537. -246.j\n",
      "  -560.  +98.j  -385. +415.j  -130. +540.j    94. +554.j   304. +483.j\n",
      "   440. +363.j     0.   +0.j   564.  +66.j   539. -100.j   509. -221.j\n",
      "   471. -389.j   368. -521.j   236. -606.j   116. -680.j   -28. -676.j\n",
      "  -148. -687.j  -308. -664.j  -440. -602.j  -573. -513.j  -690. -417.j\n",
      "     0.   +0.j  -813. -138.j  -839.  +15.j  -829. +146.j  -820. +301.j\n",
      "  -776. +451.j  -715. +590.j     0.   +0.j  -434. +789.j  -296. +811.j\n",
      "  -131. +827.j    12. +811.j   157. +767.j   287. +700.j     0.   +0.j\n",
      "   483. +505.j   545. +381.j   575. +267.j   587. +147.j   574.  +17.j\n",
      "   535.  -97.j   465. -200.j   377. -277.j   289. -331.j   190. -362.j\n",
      "    88. -374.j   -11. -367.j  -109. -328.j     0.   +0.j  -249. -194.j\n",
      "  -287.  -95.j  -295.  +20.j  -250. +138.j  -159. +228.j   -15. +260.j\n",
      " 10246.+5376.j     0.   +0.j     0.   +0.j     0.   +0.j]\n"
     ]
    }
   ],
   "source": [
    "from nexcsi import decoder\n",
    "import numpy as np\n",
    "device = \"raspberrypi\" # nexus5, nexus6p, rtac86u\n",
    "\n",
    "samples = decoder(device).read_pcap('C:/Users/woons/OneDrive/바탕 화면/data/losdown1.pcap')\n",
    "\n",
    "csi = decoder(device).unpack(samples['csi'], zero_nulls=True, zero_pilots=True)\n",
    "#csi = np.delete(csi, csi.dtype.metadata['nulls'], axis=1)\n",
    "#csi = np.delete(csi, csi.dtype.metadata['pilots'], axis=1)\n",
    "# samples is a Numpy Structured Array\n",
    "print(csi[1])\n",
    "\n"
   ]
  },
  {
   "cell_type": "code",
   "execution_count": 23,
   "metadata": {},
   "outputs": [],
   "source": [
    "from nexcsi import decoder\n",
    "import numpy as np\n",
    "\n",
    "device = \"raspberrypi\"  # nexus5, nexus6p, rtac86u\n",
    "\n",
    "# PCAP 파일 읽기\n",
    "samples = decoder(device).read_pcap('C:/Users/woons/OneDrive/바탕 화면/data/losup1.pcap')\n",
    "\n",
    "# CSI 데이터를 언팩하기\n",
    "csi = decoder(device).unpack(samples['csi'], zero_nulls=True, zero_pilots=True)\n",
    "\n",
    "# dB 진폭을 저장할 리스트 초기화\n",
    "db_amplitudes_list = []\n",
    "\n",
    "# CSI 데이터에서 각 csi[0], csi[1], ..., csi[19]에 대해 반복\n",
    "for index in range(len(csi)):  # csi[0]부터 csi[19]까지 반복\n",
    "    csi_filtered = csi[index][(csi[index].real != 0) | (csi[index].imag != 0)]  # 0.0 + 0.j를 제외한 나머지 값 선택\n",
    "\n",
    "    if csi_filtered.size > 0:  # 유효한 데이터가 있는 경우에만 처리\n",
    "        amplitudes = np.abs(csi_filtered)  # 진폭 계산\n",
    "        db_values = 20 * np.log10(np.where(amplitudes > 0, amplitudes, np.nan))  # dB로 변환\n",
    "        db_amplitudes_list.append(db_values)  # dB 값을 리스트에 추가\n",
    "\n",
    "# 결과를 CSV 파일로 저장\n",
    "output_file_path = 'C:/Users/woons/OneDrive/바탕 화면/data/test1.csv'\n",
    "with open(output_file_path, 'w') as f:\n",
    "    for db_amplitudes in db_amplitudes_list:\n",
    "        f.write(','.join(map(str, db_amplitudes)) + '\\n')  # 각 행에 dB 값을 저장\n"
   ]
  }
 ],
 "metadata": {
  "kernelspec": {
   "display_name": "Python 3",
   "language": "python",
   "name": "python3"
  },
  "language_info": {
   "codemirror_mode": {
    "name": "ipython",
    "version": 3
   },
   "file_extension": ".py",
   "mimetype": "text/x-python",
   "name": "python",
   "nbconvert_exporter": "python",
   "pygments_lexer": "ipython3",
   "version": "3.12.7"
  }
 },
 "nbformat": 4,
 "nbformat_minor": 2
}
